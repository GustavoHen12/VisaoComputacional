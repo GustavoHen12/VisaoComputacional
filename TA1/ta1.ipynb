{
 "cells": [
  {
   "cell_type": "code",
   "execution_count": 1,
   "metadata": {},
   "outputs": [],
   "source": [
    "import cv2 as cv\n",
    "import numpy as np"
   ]
  },
  {
   "attachments": {},
   "cell_type": "markdown",
   "metadata": {},
   "source": [
    "## Filtros"
   ]
  },
  {
   "cell_type": "code",
   "execution_count": 2,
   "metadata": {},
   "outputs": [],
   "source": [
    "def filterImage (img):\n",
    "    result = cv.GaussianBlur(img, (3,3), 0)\n",
    "\n",
    "    return result "
   ]
  },
  {
   "attachments": {},
   "cell_type": "markdown",
   "metadata": {},
   "source": [
    "## Border detection"
   ]
  },
  {
   "cell_type": "code",
   "execution_count": 1,
   "metadata": {},
   "outputs": [],
   "source": [
    "def borderDetectionImage (img, k):\n",
    "    sobel = cv.Sobel(img, cv.CV_8U, dx=0, dy=1, ksize=k)\n",
    "\n",
    "    return sobel\n"
   ]
  },
  {
   "cell_type": "code",
   "execution_count": 4,
   "metadata": {},
   "outputs": [],
   "source": [
    "def processFrame (frame):\n",
    "    ## Converte frame para tons de cinza\n",
    "    gray = cv.cvtColor(frame, cv.COLOR_BGR2GRAY)\n",
    "\n",
    "    ## Filtros\n",
    "    filtered = filterImage(gray)\n",
    "\n",
    "    ## Passa pela detecção de bordas\n",
    "    borderDetection = borderDetectionImage(filtered, 20)\n",
    "\n",
    "    ## Filtra com um treshold\n",
    "\n",
    "    ## Passa pela detecção de curvas\n",
    "    \n",
    "    ## Exibe na saida saida\n",
    "    # gray_3_channel = cv.cvtColor(borderDetection, cv.COLOR_GRAY2BGR)    \n",
    "    # imgOutput = np.concatenate((frame, gray_3_channel), axis=1)\n",
    "    # cv.imshow('VisaoComputacional', imgOutput)\n",
    "    cv.imshow('VisaoComputacional', borderDetection)"
   ]
  },
  {
   "attachments": {},
   "cell_type": "markdown",
   "metadata": {},
   "source": [
    "le o video e cria janela:"
   ]
  },
  {
   "cell_type": "code",
   "execution_count": 5,
   "metadata": {},
   "outputs": [
    {
     "name": "stderr",
     "output_type": "stream",
     "text": [
      "Warning: Ignoring XDG_SESSION_TYPE=wayland on Gnome. Use QT_QPA_PLATFORM=wayland to run on Wayland anyway.\n"
     ]
    }
   ],
   "source": [
    "path = r'./assets/birds_low.mp4'\n",
    "video = cv.VideoCapture(path)\n",
    "\n",
    "cv.namedWindow('VisaoComputacional', cv.WINDOW_NORMAL)\n",
    "cv.resizeWindow('VisaoComputacional', 800,600)"
   ]
  },
  {
   "attachments": {},
   "cell_type": "markdown",
   "metadata": {},
   "source": [
    "Entra no loop principal, chama a função para processar a imagem"
   ]
  },
  {
   "cell_type": "code",
   "execution_count": 6,
   "metadata": {},
   "outputs": [
    {
     "ename": "error",
     "evalue": "OpenCV(4.7.0) /io/opencv/modules/imgproc/src/deriv.cpp:104: error: (-211:One of the arguments' values is out of range) The kernel size must be odd and not larger than 31 in function 'getSobelKernels'\n",
     "output_type": "error",
     "traceback": [
      "\u001b[0;31m---------------------------------------------------------------------------\u001b[0m",
      "\u001b[0;31merror\u001b[0m                                     Traceback (most recent call last)",
      "\u001b[1;32m/home/gustavo/Documentos/UFPR/VisaoComp/TA1/ta1.ipynb Cell 10\u001b[0m in \u001b[0;36m8\n\u001b[1;32m      <a href='vscode-notebook-cell:/home/gustavo/Documentos/UFPR/VisaoComp/TA1/ta1.ipynb#W1sZmlsZQ%3D%3D?line=4'>5</a>\u001b[0m     \u001b[39mbreak\u001b[39;00m\n\u001b[1;32m      <a href='vscode-notebook-cell:/home/gustavo/Documentos/UFPR/VisaoComp/TA1/ta1.ipynb#W1sZmlsZQ%3D%3D?line=6'>7</a>\u001b[0m \u001b[39m## Chama função para processar frame\u001b[39;00m\n\u001b[0;32m----> <a href='vscode-notebook-cell:/home/gustavo/Documentos/UFPR/VisaoComp/TA1/ta1.ipynb#W1sZmlsZQ%3D%3D?line=7'>8</a>\u001b[0m processFrame(frame)\n\u001b[1;32m      <a href='vscode-notebook-cell:/home/gustavo/Documentos/UFPR/VisaoComp/TA1/ta1.ipynb#W1sZmlsZQ%3D%3D?line=8'>9</a>\u001b[0m \u001b[39mif\u001b[39;00m cv\u001b[39m.\u001b[39mwaitKey(\u001b[39m1\u001b[39m) \u001b[39m==\u001b[39m \u001b[39mord\u001b[39m(\u001b[39m'\u001b[39m\u001b[39mq\u001b[39m\u001b[39m'\u001b[39m):\n\u001b[1;32m     <a href='vscode-notebook-cell:/home/gustavo/Documentos/UFPR/VisaoComp/TA1/ta1.ipynb#W1sZmlsZQ%3D%3D?line=9'>10</a>\u001b[0m     \u001b[39mbreak\u001b[39;00m\n",
      "\u001b[1;32m/home/gustavo/Documentos/UFPR/VisaoComp/TA1/ta1.ipynb Cell 10\u001b[0m in \u001b[0;36m9\n\u001b[1;32m      <a href='vscode-notebook-cell:/home/gustavo/Documentos/UFPR/VisaoComp/TA1/ta1.ipynb#W1sZmlsZQ%3D%3D?line=5'>6</a>\u001b[0m filtered \u001b[39m=\u001b[39m filterImage(gray)\n\u001b[1;32m      <a href='vscode-notebook-cell:/home/gustavo/Documentos/UFPR/VisaoComp/TA1/ta1.ipynb#W1sZmlsZQ%3D%3D?line=7'>8</a>\u001b[0m \u001b[39m## Passa pela detecção de bordas\u001b[39;00m\n\u001b[0;32m----> <a href='vscode-notebook-cell:/home/gustavo/Documentos/UFPR/VisaoComp/TA1/ta1.ipynb#W1sZmlsZQ%3D%3D?line=8'>9</a>\u001b[0m borderDetection \u001b[39m=\u001b[39m borderDetectionImage(filtered, \u001b[39m20\u001b[39;49m)\n\u001b[1;32m     <a href='vscode-notebook-cell:/home/gustavo/Documentos/UFPR/VisaoComp/TA1/ta1.ipynb#W1sZmlsZQ%3D%3D?line=10'>11</a>\u001b[0m \u001b[39m## Filtra com um treshold\u001b[39;00m\n\u001b[1;32m     <a href='vscode-notebook-cell:/home/gustavo/Documentos/UFPR/VisaoComp/TA1/ta1.ipynb#W1sZmlsZQ%3D%3D?line=11'>12</a>\u001b[0m \n\u001b[1;32m     <a href='vscode-notebook-cell:/home/gustavo/Documentos/UFPR/VisaoComp/TA1/ta1.ipynb#W1sZmlsZQ%3D%3D?line=12'>13</a>\u001b[0m \u001b[39m## Passa pela detecção de curvas\u001b[39;00m\n\u001b[0;32m   (...)\u001b[0m\n\u001b[1;32m     <a href='vscode-notebook-cell:/home/gustavo/Documentos/UFPR/VisaoComp/TA1/ta1.ipynb#W1sZmlsZQ%3D%3D?line=16'>17</a>\u001b[0m \u001b[39m# imgOutput = np.concatenate((frame, gray_3_channel), axis=1)\u001b[39;00m\n\u001b[1;32m     <a href='vscode-notebook-cell:/home/gustavo/Documentos/UFPR/VisaoComp/TA1/ta1.ipynb#W1sZmlsZQ%3D%3D?line=17'>18</a>\u001b[0m \u001b[39m# cv.imshow('VisaoComputacional', imgOutput)\u001b[39;00m\n\u001b[1;32m     <a href='vscode-notebook-cell:/home/gustavo/Documentos/UFPR/VisaoComp/TA1/ta1.ipynb#W1sZmlsZQ%3D%3D?line=18'>19</a>\u001b[0m cv\u001b[39m.\u001b[39mimshow(\u001b[39m'\u001b[39m\u001b[39mVisaoComputacional\u001b[39m\u001b[39m'\u001b[39m, borderDetection)\n",
      "\u001b[1;32m/home/gustavo/Documentos/UFPR/VisaoComp/TA1/ta1.ipynb Cell 10\u001b[0m in \u001b[0;36m2\n\u001b[1;32m      <a href='vscode-notebook-cell:/home/gustavo/Documentos/UFPR/VisaoComp/TA1/ta1.ipynb#W1sZmlsZQ%3D%3D?line=0'>1</a>\u001b[0m \u001b[39mdef\u001b[39;00m \u001b[39mborderDetectionImage\u001b[39m (img, k):\n\u001b[0;32m----> <a href='vscode-notebook-cell:/home/gustavo/Documentos/UFPR/VisaoComp/TA1/ta1.ipynb#W1sZmlsZQ%3D%3D?line=1'>2</a>\u001b[0m     sobel \u001b[39m=\u001b[39m cv\u001b[39m.\u001b[39;49mSobel(img, cv\u001b[39m.\u001b[39;49mCV_8U, dx\u001b[39m=\u001b[39;49m\u001b[39m0\u001b[39;49m, dy\u001b[39m=\u001b[39;49m\u001b[39m1\u001b[39;49m, ksize\u001b[39m=\u001b[39;49mk)\n\u001b[1;32m      <a href='vscode-notebook-cell:/home/gustavo/Documentos/UFPR/VisaoComp/TA1/ta1.ipynb#W1sZmlsZQ%3D%3D?line=3'>4</a>\u001b[0m     \u001b[39mreturn\u001b[39;00m sobel\n",
      "\u001b[0;31merror\u001b[0m: OpenCV(4.7.0) /io/opencv/modules/imgproc/src/deriv.cpp:104: error: (-211:One of the arguments' values is out of range) The kernel size must be odd and not larger than 31 in function 'getSobelKernels'\n"
     ]
    },
    {
     "ename": "",
     "evalue": "",
     "output_type": "error",
     "traceback": [
      "\u001b[1;31mThe Kernel crashed while executing code in the the current cell or a previous cell. Please review the code in the cell(s) to identify a possible cause of the failure. Click <a href='https://aka.ms/vscodeJupyterKernelCrash'>here</a> for more info. View Jupyter <a href='command:jupyter.viewOutput'>log</a> for further details."
     ]
    }
   ],
   "source": [
    "while (video.isOpened()):\n",
    "    ret, frame = video.read()\n",
    "    if not ret:\n",
    "        print(\"Saindo ...\")\n",
    "        break\n",
    "\n",
    "    ## Chama função para processar frame\n",
    "    processFrame(frame)\n",
    "    if cv.waitKey(1) == ord('q'):\n",
    "        break\n",
    "\n",
    "video.release()\n",
    "cv.destroyAllWindows()"
   ]
  }
 ],
 "metadata": {
  "kernelspec": {
   "display_name": "Python 3",
   "language": "python",
   "name": "python3"
  },
  "language_info": {
   "codemirror_mode": {
    "name": "ipython",
    "version": 3
   },
   "file_extension": ".py",
   "mimetype": "text/x-python",
   "name": "python",
   "nbconvert_exporter": "python",
   "pygments_lexer": "ipython3",
   "version": "3.11.2"
  },
  "orig_nbformat": 4,
  "vscode": {
   "interpreter": {
    "hash": "e7370f93d1d0cde622a1f8e1c04877d8463912d04d973331ad4851f04de6915a"
   }
  }
 },
 "nbformat": 4,
 "nbformat_minor": 2
}
