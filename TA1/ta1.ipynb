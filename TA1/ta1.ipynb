{
 "cells": [
  {
   "cell_type": "code",
   "execution_count": 1,
   "metadata": {},
   "outputs": [],
   "source": [
    "from __future__ import print_function\n",
    "from ipywidgets import interact, interactive, fixed, interact_manual\n",
    "import ipywidgets as widgets\n",
    "import time\n",
    "\n",
    "import cv2 as cv\n",
    "from matplotlib import pyplot as plt\n",
    "import numpy as np"
   ]
  },
  {
   "attachments": {},
   "cell_type": "markdown",
   "metadata": {
    "tags": []
   },
   "source": [
    "# Filtro (Gaussiano)"
   ]
  },
  {
   "cell_type": "code",
   "execution_count": 2,
   "metadata": {},
   "outputs": [],
   "source": [
    "def filterImage (img, k):\n",
    "    result = cv.GaussianBlur(img, (k,k), 0)\n",
    "    return result"
   ]
  },
  {
   "attachments": {},
   "cell_type": "markdown",
   "metadata": {
    "tags": []
   },
   "source": [
    "# Border Detection (Sobel)"
   ]
  },
  {
   "cell_type": "code",
   "execution_count": 3,
   "metadata": {},
   "outputs": [],
   "source": [
    "def borderDetectionImage (img, k):\n",
    "    sobel_x = cv.Sobel(img, cv.CV_8UC1, dx=1, dy=0, ksize=k)\n",
    "    sobel_y = cv.Sobel(img, cv.CV_8UC1, dx=0, dy=1, ksize=k)\n",
    "\n",
    "    return sobel_x + sobel_y"
   ]
  },
  {
   "attachments": {},
   "cell_type": "markdown",
   "metadata": {},
   "source": [
    "# Corner Detection (Harris)"
   ]
  },
  {
   "cell_type": "code",
   "execution_count": 4,
   "metadata": {},
   "outputs": [],
   "source": [
    "def cornerDetectionImage (img, blockSize, ksize, k):\n",
    "    dst = cv.cornerHarris(img,blockSize,ksize,k)\n",
    "    dst = cv.dilate(dst,None)\n",
    "\n",
    "    return dst"
   ]
  },
  {
   "attachments": {},
   "cell_type": "markdown",
   "metadata": {},
   "source": [
    "# Threshold (Binário)"
   ]
  },
  {
   "cell_type": "code",
   "execution_count": 5,
   "metadata": {},
   "outputs": [],
   "source": [
    "def threshold(img, threshLevel):\n",
    "    result = cv.adaptiveThreshold(img, 255,cv.ADAPTIVE_THRESH_GAUSSIAN_C, cv.THRESH_BINARY, threshLevel, 3)\n",
    "    return result"
   ]
  },
  {
   "attachments": {},
   "cell_type": "markdown",
   "metadata": {},
   "source": [
    "# Main\n",
    "\n",
    "Deixamos rodando um vídeo e podemos comparar com os diversos processamentos de imagem que fizemos em tempo real."
   ]
  },
  {
   "cell_type": "code",
   "execution_count": 6,
   "metadata": {},
   "outputs": [],
   "source": [
    "def processFrame (frame, gaussianFilterSize, sobelKSize, threshLevel, blockSize, harrisK, imageMode):\n",
    "    # Converte frame para tons de cinza\n",
    "    gray = cv.cvtColor(frame, cv.COLOR_BGR2GRAY)\n",
    "\n",
    "    # Filtros\n",
    "    filtered = filterImage(gray, gaussianFilterSize)\n",
    "\n",
    "    # Passa pela detecção de bordas\n",
    "    borderDetection = borderDetectionImage(filtered, sobelKSize)\n",
    "\n",
    "    # Filtra com um threshold\n",
    "    resultThreshold = threshold(borderDetection, threshLevel)\n",
    "\n",
    "    # Detecção de cantos\n",
    "    result = cv.cvtColor(resultThreshold, cv.COLOR_GRAY2BGR)    \n",
    "    cornerDetection = cornerDetectionImage(resultThreshold, blockSize, sobelKSize, harrisK)\n",
    "    \n",
    "    # Adiciona resultado da detecção de cantos na imagem\n",
    "    result[cornerDetection>0.01*cornerDetection.max()]=[0,0,255]\n",
    "    \n",
    "    # Exibe na saida saida\n",
    "    if(imageMode):\n",
    "        plt.imshow(result)\n",
    "        plt.title('Saida')\n",
    "        plt.show()\n",
    "    else:\n",
    "        imgOutput = np.concatenate((frame, result), axis=1)\n",
    "        cv.imshow('VisaoComputacional', imgOutput)"
   ]
  },
  {
   "attachments": {},
   "cell_type": "markdown",
   "metadata": {},
   "source": [
    "# Parâmetros\n",
    "\n",
    "Nessa primeira parte definimos alguns parâmetros para a execução do programa"
   ]
  },
  {
   "cell_type": "code",
   "execution_count": 7,
   "metadata": {},
   "outputs": [],
   "source": [
    "VIDEO = cv.VideoCapture(\"./assets/tenis2.mp4\")\n",
    "ret, VIDEO_SAMPLE = VIDEO.read()\n",
    "frame_rate = 30\n",
    "\n",
    "# Valores default\n",
    "gaussianFilterSize = 29\n",
    "sobelKSize = 3\n",
    "threshLevel = 7\n",
    "blockSize = 3\n",
    "harrisK = 0.21"
   ]
  },
  {
   "attachments": {},
   "cell_type": "markdown",
   "metadata": {},
   "source": [
    "## Calibração\n",
    "Com base em uma imagem exemplo do vídeo podemos testar a melhor calibração e alterar"
   ]
  },
  {
   "cell_type": "code",
   "execution_count": 8,
   "metadata": {},
   "outputs": [
    {
     "data": {
      "application/vnd.jupyter.widget-view+json": {
       "model_id": "5c4dc5ab30314ed7899ad8d5092860a4",
       "version_major": 2,
       "version_minor": 0
      },
      "text/plain": [
       "interactive(children=(IntSlider(value=29, description='gaussianFilterSize', max=255, min=1, step=2), IntSlider…"
      ]
     },
     "metadata": {},
     "output_type": "display_data"
    },
    {
     "data": {
      "text/plain": [
       "<function __main__.processFrame(frame, gaussianFilterSize, sobelKSize, threshLevel, blockSize, harrisK, imageMode)>"
      ]
     },
     "execution_count": 8,
     "metadata": {},
     "output_type": "execute_result"
    }
   ],
   "source": [
    "interact(processFrame, frame=fixed(VIDEO_SAMPLE), \\\n",
    "         gaussianFilterSize=widgets.IntSlider(min=1, max=255, step=2, value=gaussianFilterSize), \\\n",
    "         sobelKSize=widgets.IntSlider(min=1, max=31, step=2, value=sobelKSize), \\\n",
    "         threshLevel=widgets.IntSlider(min=3, max=29, step=2, value=threshLevel), \\\n",
    "         blockSize=widgets.IntSlider(min=1, max=30, step=1, value=blockSize), \\\n",
    "         harrisK=widgets.FloatSlider(min=0.0, max=1.0, step=0.01, value=harrisK), \\\n",
    "         imageMode=fixed(True))"
   ]
  },
  {
   "attachments": {},
   "cell_type": "markdown",
   "metadata": {},
   "source": [
    "# Fluxo principal"
   ]
  },
  {
   "cell_type": "markdown",
   "metadata": {},
   "source": [
    "Entra no loop principal, chama a função para processar a imagem"
   ]
  },
  {
   "cell_type": "code",
   "execution_count": 9,
   "metadata": {
    "tags": []
   },
   "outputs": [
    {
     "name": "stderr",
     "output_type": "stream",
     "text": [
      "Warning: Ignoring XDG_SESSION_TYPE=wayland on Gnome. Use QT_QPA_PLATFORM=wayland to run on Wayland anyway.\n"
     ]
    },
    {
     "name": "stdout",
     "output_type": "stream",
     "text": [
      "Saindo...\n"
     ]
    }
   ],
   "source": [
    "# Cria tela\n",
    "cv.namedWindow('VisaoComputacional', cv.WINDOW_NORMAL)\n",
    "cv.resizeWindow('VisaoComputacional', 800,600)\n",
    "\n",
    "while (VIDEO.isOpened()):\n",
    "    start_time = time.time()\n",
    "    ret, frame = VIDEO.read()\n",
    "    if not ret:\n",
    "        print(\"Saindo...\")\n",
    "        break\n",
    "\n",
    "    # Chama função para processar frame\n",
    "    processFrame(frame, gaussianFilterSize, sobelKSize, threshLevel, blockSize, harrisK, False)\n",
    "    if cv.waitKey(1) == ord('q'):\n",
    "        break\n",
    "\n",
    "    time_elapsed = time.time() - start_time\n",
    "    time_to_wait = 1./frame_rate - time_elapsed\n",
    "    if time_to_wait > 0:\n",
    "        time.sleep(time_to_wait)\n",
    "\n",
    "\n",
    "VIDEO.release()\n",
    "cv.destroyAllWindows()"
   ]
  }
 ],
 "metadata": {
  "kernelspec": {
   "display_name": "Python 3 (ipykernel)",
   "language": "python",
   "name": "python3"
  },
  "language_info": {
   "codemirror_mode": {
    "name": "ipython",
    "version": 3
   },
   "file_extension": ".py",
   "mimetype": "text/x-python",
   "name": "python",
   "nbconvert_exporter": "python",
   "pygments_lexer": "ipython3",
   "version": "3.11.3"
  },
  "vscode": {
   "interpreter": {
    "hash": "e7370f93d1d0cde622a1f8e1c04877d8463912d04d973331ad4851f04de6915a"
   }
  }
 },
 "nbformat": 4,
 "nbformat_minor": 4
}
