{
 "cells": [
  {
   "cell_type": "code",
   "execution_count": 1,
   "metadata": {},
   "outputs": [],
   "source": [
    "import cv2 as cv\n",
    "import numpy as np"
   ]
  },
  {
   "attachments": {},
   "cell_type": "markdown",
   "metadata": {},
   "source": [
    "## Filtros"
   ]
  },
  {
   "cell_type": "code",
   "execution_count": 2,
   "metadata": {},
   "outputs": [],
   "source": [
    "def filterImage (img):\n",
    "    result = cv.GaussianBlur(img, (3,3), 0)\n",
    "\n",
    "    return result "
   ]
  },
  {
   "attachments": {},
   "cell_type": "markdown",
   "metadata": {},
   "source": [
    "## Border detection"
   ]
  },
  {
   "cell_type": "code",
   "execution_count": 3,
   "metadata": {},
   "outputs": [],
   "source": [
    "def borderDetectionImage (img, k):\n",
    "    sobel = cv.Sobel(img, cv.CV_8U, dx=0, dy=1, ksize=k)\n",
    "\n",
    "    return sobel\n"
   ]
  },
  {
   "cell_type": "code",
   "execution_count": 4,
   "metadata": {},
   "outputs": [],
   "source": [
    "def processFrame (frame):\n",
    "    ## Converte frame para tons de cinza\n",
    "    gray = cv.cvtColor(frame, cv.COLOR_BGR2GRAY)\n",
    "\n",
    "    ## Filtros\n",
    "    filtered = filterImage(gray)\n",
    "\n",
    "    ## Passa pela detecção de bordas\n",
    "    # borderDetection = borderDetectionImage(filtered, 20)\n",
    "\n",
    "    ## Filtra com um treshold\n",
    "\n",
    "    ## Passa pela detecção de curvas\n",
    "    \n",
    "    ## Exibe na saida saida\n",
    "    # gray_3_channel = cv.cvtColor(borderDetection, cv.COLOR_GRAY2BGR)    \n",
    "    # imgOutput = np.concatenate((frame, gray_3_channel), axis=1)\n",
    "    # cv.imshow('VisaoComputacional', imgOutput)\n",
    "    cv.imshow('VisaoComputacional', filtered)"
   ]
  },
  {
   "attachments": {},
   "cell_type": "markdown",
   "metadata": {},
   "source": [
    "le o video e cria janela:"
   ]
  },
  {
   "cell_type": "code",
   "execution_count": 5,
   "metadata": {},
   "outputs": [
    {
     "name": "stderr",
     "output_type": "stream",
     "text": [
      "Warning: Ignoring XDG_SESSION_TYPE=wayland on Gnome. Use QT_QPA_PLATFORM=wayland to run on Wayland anyway.\n"
     ]
    }
   ],
   "source": [
    "path = r'./assets/birds_low.mp4'\n",
    "video = cv.VideoCapture(path)\n",
    "\n",
    "cv.namedWindow('VisaoComputacional', cv.WINDOW_NORMAL)\n",
    "cv.resizeWindow('VisaoComputacional', 800,600)"
   ]
  },
  {
   "attachments": {},
   "cell_type": "markdown",
   "metadata": {},
   "source": [
    "Entra no loop principal, chama a função para processar a imagem"
   ]
  },
  {
   "cell_type": "code",
   "execution_count": 6,
   "metadata": {},
   "outputs": [
    {
     "name": "stdout",
     "output_type": "stream",
     "text": [
      "Saindo ...\n"
     ]
    }
   ],
   "source": [
    "while (video.isOpened()):\n",
    "    ret, frame = video.read()\n",
    "    if not ret:\n",
    "        print(\"Saindo ...\")\n",
    "        break\n",
    "\n",
    "    ## Chama função para processar frame\n",
    "    processFrame(frame)\n",
    "    if cv.waitKey(1) == ord('q'):\n",
    "        break\n",
    "\n",
    "video.release()\n",
    "cv.destroyAllWindows()"
   ]
  }
 ],
 "metadata": {
  "kernelspec": {
   "display_name": "Python 3",
   "language": "python",
   "name": "python3"
  },
  "language_info": {
   "codemirror_mode": {
    "name": "ipython",
    "version": 3
   },
   "file_extension": ".py",
   "mimetype": "text/x-python",
   "name": "python",
   "nbconvert_exporter": "python",
   "pygments_lexer": "ipython3",
   "version": "3.11.3"
  },
  "orig_nbformat": 4,
  "vscode": {
   "interpreter": {
    "hash": "e7370f93d1d0cde622a1f8e1c04877d8463912d04d973331ad4851f04de6915a"
   }
  }
 },
 "nbformat": 4,
 "nbformat_minor": 2
}
