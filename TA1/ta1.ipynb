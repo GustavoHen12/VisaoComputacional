{
 "cells": [
  {
   "cell_type": "code",
   "execution_count": 19,
   "metadata": {},
   "outputs": [],
   "source": [
    "from __future__ import print_function\n",
    "from ipywidgets import interact, interactive, fixed, interact_manual\n",
    "import ipywidgets as widgets\n",
    "import time\n",
    "\n",
    "import cv2 as cv\n",
    "from matplotlib import pyplot as plt\n",
    "import numpy as np"
   ]
  },
  {
   "attachments": {},
   "cell_type": "markdown",
   "metadata": {},
   "source": [
    "## Filtros"
   ]
  },
  {
   "cell_type": "code",
   "execution_count": 20,
   "metadata": {},
   "outputs": [],
   "source": [
    "def filterImage (img, k):\n",
    "    result = cv.GaussianBlur(img, (k,k), 0)\n",
    "    return result"
   ]
  },
  {
   "attachments": {},
   "cell_type": "markdown",
   "metadata": {},
   "source": [
    "## Border detection"
   ]
  },
  {
   "cell_type": "code",
   "execution_count": 21,
   "metadata": {},
   "outputs": [],
   "source": [
    "def borderDetectionImage (img, k):\n",
    "    sobel_x = cv.Sobel(img, cv.CV_8UC1, dx=1, dy=0, ksize=k)\n",
    "    sobel_y = cv.Sobel(img, cv.CV_8UC1, dx=0, dy=1, ksize=k)\n",
    "\n",
    "    return sobel_x + sobel_y"
   ]
  },
  {
   "attachments": {},
   "cell_type": "markdown",
   "metadata": {},
   "source": [
    "## Corner detection"
   ]
  },
  {
   "cell_type": "code",
   "execution_count": 22,
   "metadata": {},
   "outputs": [],
   "source": [
    "def cornerDetectionImage (img, blockSize, ksize, k):\n",
    "    dst = cv.cornerHarris(img,blockSize,ksize,k)\n",
    "    dst = cv.dilate(dst,None)\n",
    "\n",
    "    return dst"
   ]
  },
  {
   "attachments": {},
   "cell_type": "markdown",
   "metadata": {},
   "source": [
    "## Treshold"
   ]
  },
  {
   "cell_type": "code",
   "execution_count": 23,
   "metadata": {},
   "outputs": [],
   "source": [
    "def treshold(img, treshLevel):\n",
    "    result = cv.adaptiveThreshold(img, 255,cv.ADAPTIVE_THRESH_GAUSSIAN_C, cv.THRESH_BINARY, treshLevel, 3)\n",
    "    return result"
   ]
  },
  {
   "attachments": {},
   "cell_type": "markdown",
   "metadata": {},
   "source": [
    "## Main"
   ]
  },
  {
   "cell_type": "code",
   "execution_count": 24,
   "metadata": {},
   "outputs": [],
   "source": [
    "def processFrame (frame, gaussianFilterSize, sobelKSize, treshLevel, blockSize, harrisK, imageMode):\n",
    "    ## Converte frame para tons de cinza\n",
    "    gray = cv.cvtColor(frame, cv.COLOR_BGR2GRAY)\n",
    "    gray_3 = cv.cvtColor(gray, cv.COLOR_GRAY2BGR)  \n",
    "\n",
    "    ## Filtros\n",
    "    filtered = filterImage(gray, gaussianFilterSize)\n",
    "\n",
    "    ## Passa pela detecção de bordas\n",
    "    borderDetection = borderDetectionImage(filtered, sobelKSize)\n",
    "\n",
    "    ## Filtra com um treshold\n",
    "    resultTreshold = treshold(borderDetection, treshLevel)\n",
    "\n",
    "    result = cv.cvtColor(resultTreshold, cv.COLOR_GRAY2BGR)    \n",
    "    cornerDetection = cornerDetectionImage(resultTreshold, blockSize, sobelKSize, harrisK)\n",
    "    result[cornerDetection>0.01*cornerDetection.max()]=[0,0,255]\n",
    "    \n",
    "    ## Exibe na saida saida\n",
    "    if(imageMode):\n",
    "        plt.imshow(result)\n",
    "        plt.title('Saida')\n",
    "        plt.show()\n",
    "    else:\n",
    "        imgOutput = np.concatenate((frame, result), axis=1)\n",
    "        cv.imshow('VisaoComputacional', imgOutput)"
   ]
  },
  {
   "attachments": {},
   "cell_type": "markdown",
   "metadata": {},
   "source": [
    "## Parâmetros\n",
    "\n",
    "Nessa primeira parte definimos alguns parâmetros para a execução do programa"
   ]
  },
  {
   "cell_type": "code",
   "execution_count": 25,
   "metadata": {},
   "outputs": [],
   "source": [
    "VIDEO = cv.VideoCapture(\"./assets/tenis2.mp4\")\n",
    "ret, VIDEO_SAMPLE = VIDEO.read()\n",
    "frame_rate = 30\n",
    "\n",
    "# Valores default\n",
    "gaussianFilterSize = 29\n",
    "sobelKSize = 3\n",
    "treshLevel = 7\n",
    "blockSize = 3\n",
    "harrisK = 0.21"
   ]
  },
  {
   "attachments": {},
   "cell_type": "markdown",
   "metadata": {},
   "source": [
    "### Calibração\n",
    "Com base em uma imagem exemplo do vídeo podemos testar a melhor calibração e alterar"
   ]
  },
  {
   "cell_type": "code",
   "execution_count": 26,
   "metadata": {},
   "outputs": [
    {
     "data": {
      "application/vnd.jupyter.widget-view+json": {
       "model_id": "8fab444a91ce4708a10abaa662af5694",
       "version_major": 2,
       "version_minor": 0
      },
      "text/plain": [
       "interactive(children=(IntSlider(value=29, description='gaussianFilterSize', max=255, min=1, step=2), IntSlider…"
      ]
     },
     "metadata": {},
     "output_type": "display_data"
    },
    {
     "data": {
      "text/plain": [
       "<function __main__.processFrame(frame, gaussianFilterSize, sobelKSize, treshLevel, blockSize, harrisK, imageMode)>"
      ]
     },
     "execution_count": 26,
     "metadata": {},
     "output_type": "execute_result"
    }
   ],
   "source": [
    "interact(processFrame, frame=fixed(VIDEO_SAMPLE), \\\n",
    "         gaussianFilterSize=widgets.IntSlider(min=1, max=255, step=2, value=gaussianFilterSize), \\\n",
    "         sobelKSize=widgets.IntSlider(min=1, max=31, step=2, value=sobelKSize), \\\n",
    "         treshLevel=widgets.IntSlider(min=1, max=30, step=2, value=treshLevel), \\\n",
    "         blockSize=widgets.IntSlider(min=1, max=30, step=1, value=blockSize), \\\n",
    "         harrisK=widgets.FloatSlider(min=0.0, max=1.0, step=0.01, value=harrisK), \\\n",
    "         imageMode=fixed(True))"
   ]
  },
  {
   "attachments": {},
   "cell_type": "markdown",
   "metadata": {},
   "source": [
    "## Fluxo principal"
   ]
  },
  {
   "attachments": {},
   "cell_type": "markdown",
   "metadata": {},
   "source": [
    "Entra no loop principal, chama a função para processar a imagem"
   ]
  },
  {
   "cell_type": "code",
   "execution_count": 27,
   "metadata": {},
   "outputs": [],
   "source": [
    "# Cria tela\n",
    "cv.namedWindow('VisaoComputacional', cv.WINDOW_NORMAL)\n",
    "cv.resizeWindow('VisaoComputacional', 800,600)\n",
    "\n",
    "while (VIDEO.isOpened()):\n",
    "    start_time = time.time()\n",
    "    ret, frame = VIDEO.read()\n",
    "    if not ret:\n",
    "        print(\"Saindo...\")\n",
    "        break\n",
    "\n",
    "    ## Chama função para processar frame\n",
    "    processFrame(frame, gaussianFilterSize, sobelKSize, treshLevel, blockSize, harrisK, False)\n",
    "    if cv.waitKey(1) == ord('q'):\n",
    "        break\n",
    "\n",
    "    time_elapsed = time.time() - start_time\n",
    "    time_to_wait = 1./frame_rate - time_elapsed\n",
    "    if time_to_wait > 0:\n",
    "        time.sleep(time_to_wait)\n",
    "\n",
    "\n",
    "VIDEO.release()\n",
    "cv.destroyAllWindows()"
   ]
  }
 ],
 "metadata": {
  "kernelspec": {
   "display_name": "Python 3",
   "language": "python",
   "name": "python3"
  },
  "language_info": {
   "codemirror_mode": {
    "name": "ipython",
    "version": 3
   },
   "file_extension": ".py",
   "mimetype": "text/x-python",
   "name": "python",
   "nbconvert_exporter": "python",
   "pygments_lexer": "ipython3",
   "version": "3.11.3"
  },
  "orig_nbformat": 4,
  "vscode": {
   "interpreter": {
    "hash": "e7370f93d1d0cde622a1f8e1c04877d8463912d04d973331ad4851f04de6915a"
   }
  }
 },
 "nbformat": 4,
 "nbformat_minor": 2
}
